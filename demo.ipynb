{
 "cells": [
  {
   "cell_type": "code",
   "execution_count": 4,
   "metadata": {},
   "outputs": [],
   "source": [
    "import wfdb\n",
    "import numpy as np\n",
    "from scipy import signal\n",
    "import matplotlib.pyplot as plt\n",
    "\n",
    "# pat_id = 101\n",
    "\n",
    "# Read a record from the database\n",
    "# record = wfdb.rdrecord(f'./data/mitdb/{pat_id}')"
   ]
  },
  {
   "cell_type": "code",
   "execution_count": 5,
   "metadata": {},
   "outputs": [],
   "source": [
    "# Read annotations\n",
    "# annotation = wfdb.rdann(f'./data/mitdb/{pat_id}', 'atr')\n",
    "# symbol = annotation.symbol\n",
    "# location = annotation.sample"
   ]
  },
  {
   "cell_type": "code",
   "execution_count": 6,
   "metadata": {},
   "outputs": [],
   "source": [
    "# Find RR-intervals and min and max of each set\n",
    "# rr_intervals = []\n",
    "# for i in range(2, len(location)):\n",
    "#     rr_intervals.append(location[i]-location[i-1])\n",
    "\n",
    "# print(rr_intervals)\n",
    "# print(min(rr_intervals))\n",
    "# print(max(rr_intervals))"
   ]
  },
  {
   "cell_type": "code",
   "execution_count": 7,
   "metadata": {},
   "outputs": [],
   "source": [
    "# Read record numbers\n",
    "with open('./data/mitdb/RECORDS') as f:\n",
    "    records = f.readlines()\n",
    "\n",
    "for i in range(0,len(records)):\n",
    "    records[i] = int(records[i])\n",
    "    "
   ]
  },
  {
   "cell_type": "code",
   "execution_count": 8,
   "metadata": {},
   "outputs": [],
   "source": [
    "# Find RR-intervals for all records\n",
    "# Check abnormally long/short intervals\n",
    "rr_intervals = []\n",
    "check = [] \n",
    "check_low = []\n",
    "\n",
    "for id in records:\n",
    "    pat_id = id\n",
    "    annotation = wfdb.rdann(f'./data/mitdb/{pat_id}', 'atr')\n",
    "    location = annotation.sample\n",
    "    for i in range(2, len(location)):\n",
    "        if location[i]-location[i-1] > 1270:\n",
    "            check.append(id)\n",
    "        if location[i]-location[i-1] < 25:\n",
    "            check_low.append(id)\n",
    "        rr_intervals.append(location[i]-location[i-1])"
   ]
  },
  {
   "cell_type": "code",
   "execution_count": 9,
   "metadata": {},
   "outputs": [
    {
     "data": {
      "text/plain": [
       "(array([2.9400e+02, 1.8590e+03, 4.6440e+03, 1.5964e+04, 3.2821e+04,\n",
       "        3.0903e+04, 1.4871e+04, 7.0300e+03, 2.9980e+03, 6.8800e+02,\n",
       "        1.3700e+02, 6.6000e+01, 1.0900e+02, 5.6000e+01, 1.2000e+01,\n",
       "        8.0000e+00, 1.0000e+01, 1.8000e+01, 2.2000e+01, 6.0000e+00,\n",
       "        6.0000e+00, 9.0000e+00, 3.0000e+00, 2.0000e+00, 1.0000e+00,\n",
       "        0.0000e+00, 0.0000e+00, 3.0000e+00, 4.0000e+00, 2.0000e+00,\n",
       "        2.0000e+00, 0.0000e+00, 0.0000e+00, 0.0000e+00, 0.0000e+00,\n",
       "        0.0000e+00, 0.0000e+00, 0.0000e+00, 2.0000e+00, 1.0000e+00]),\n",
       " array([   6. ,   58.7,  111.4,  164.1,  216.8,  269.5,  322.2,  374.9,\n",
       "         427.6,  480.3,  533. ,  585.7,  638.4,  691.1,  743.8,  796.5,\n",
       "         849.2,  901.9,  954.6, 1007.3, 1060. , 1112.7, 1165.4, 1218.1,\n",
       "        1270.8, 1323.5, 1376.2, 1428.9, 1481.6, 1534.3, 1587. , 1639.7,\n",
       "        1692.4, 1745.1, 1797.8, 1850.5, 1903.2, 1955.9, 2008.6, 2061.3,\n",
       "        2114. ]),\n",
       " <BarContainer object of 40 artists>)"
      ]
     },
     "execution_count": 9,
     "metadata": {},
     "output_type": "execute_result"
    },
    {
     "data": {
      "image/png": "[encoded data removed]",
      "text/plain": [
       "<Figure size 640x480 with 1 Axes>"
      ]
     },
     "metadata": {},
     "output_type": "display_data"
    }
   ],
   "source": [
    "# Plot distribution of RR-intervals\n",
    "plt.hist(rr_intervals, bins=40, log=True)"
   ]
  },
  {
   "cell_type": "code",
   "execution_count": 10,
   "metadata": {},
   "outputs": [],
   "source": [
    "annotation = wfdb.rdann(f'./data/mitdb/{pat_id}', 'atr')\n",
    "record = wfdb.rdrecord(f'./data/mitdb/{pat_id}')\n",
    "loc = annotation.sample\n",
    "signal = record.p_signal[:,0]\n",
    "\n"
   ]
  },
  {
   "cell_type": "code",
   "execution_count": 1,
   "metadata": {},
   "outputs": [
    {
     "ename": "NameError",
     "evalue": "name 'wfdb' is not defined",
     "output_type": "error",
     "traceback": [
      "\u001b[1;31m---------------------------------------------------------------------------\u001b[0m",
      "\u001b[1;31mNameError\u001b[0m                                 Traceback (most recent call last)",
      "Cell \u001b[1;32mIn[1], line 5\u001b[0m\n\u001b[0;32m      3\u001b[0m \u001b[39m#for id in records:\u001b[39;00m\n\u001b[0;32m      4\u001b[0m pat_id \u001b[39m=\u001b[39m \u001b[39m100\u001b[39m\n\u001b[1;32m----> 5\u001b[0m annotation \u001b[39m=\u001b[39m wfdb\u001b[39m.\u001b[39mrdann(\u001b[39mf\u001b[39m\u001b[39m'\u001b[39m\u001b[39m./data/mitdb/\u001b[39m\u001b[39m{\u001b[39;00mpat_id\u001b[39m}\u001b[39;00m\u001b[39m'\u001b[39m, \u001b[39m'\u001b[39m\u001b[39matr\u001b[39m\u001b[39m'\u001b[39m)\n\u001b[0;32m      6\u001b[0m record \u001b[39m=\u001b[39m wfdb\u001b[39m.\u001b[39mrdrecord(\u001b[39mf\u001b[39m\u001b[39m'\u001b[39m\u001b[39m./data/mitdb/\u001b[39m\u001b[39m{\u001b[39;00mpat_id\u001b[39m}\u001b[39;00m\u001b[39m'\u001b[39m)\n\u001b[0;32m      7\u001b[0m location \u001b[39m=\u001b[39m annotation\u001b[39m.\u001b[39msample\n",
      "\u001b[1;31mNameError\u001b[0m: name 'wfdb' is not defined"
     ]
    }
   ],
   "source": [
    "# Segment by using relative minimum RR-interval\n",
    "segments = []\n",
    "#for id in records:\n",
    "pat_id = 100\n",
    "annotation = wfdb.rdann(f'./data/mitdb/{pat_id}', 'atr')\n",
    "record = wfdb.rdrecord(f'./data/mitdb/{pat_id}')\n",
    "location = annotation.sample\n",
    "signal = record.p_signal[:,0]\n",
    "for i in range(2, len(location)-1):\n",
    "    len = round(min(location[i]-location[i-1], location[i+1]-location[i]) * 0.8)"
   ]
  }
 ],
 "metadata": {
  "kernelspec": {
   "display_name": ".venv",
   "language": "python",
   "name": "python3"
  },
  "language_info": {
   "codemirror_mode": {
    "name": "ipython",
    "version": 3
   },
   "file_extension": ".py",
   "mimetype": "text/x-python",
   "name": "python",
   "nbconvert_exporter": "python",
   "pygments_lexer": "ipython3",
   "version": "3.11.4"
  },
  "orig_nbformat": 4
 },
 "nbformat": 4,
 "nbformat_minor": 2
}
